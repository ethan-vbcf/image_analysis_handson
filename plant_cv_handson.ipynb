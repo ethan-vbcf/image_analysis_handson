{
 "cells": [
  {
   "cell_type": "markdown",
   "metadata": {},
   "source": [
    "# Plant CV hands-on\n",
    "\n",
    "Everything is running on a web server so you don't need to install anything.\n",
    "\n",
    "To run a block of code, click on the code block, hold [shift] and press [enter]\n",
    "\n",
    "For more information check out the plantcv website: https://plantcv.danforthcenter.org \n",
    "\n",
    "and the documentation: https://plantcv.readthedocs.io/en/stable/\n",
    "\n",
    "There are also many more usefull tutorials here: https://plantcv.readthedocs.io/en/stable/tutorials/\n",
    "\n"
   ]
  },
  {
   "cell_type": "code",
   "execution_count": null,
   "metadata": {},
   "outputs": [],
   "source": [
    "# Import Libraries \n",
    "from plantcv import plantcv as pcv\n",
    "import matplotlib\n",
    "import numpy as np"
   ]
  },
  {
   "cell_type": "code",
   "execution_count": null,
   "metadata": {},
   "outputs": [],
   "source": [
    "class options:\n",
    "    def __init__(self):\n",
    "        #self.image = \"./img/original_image.jpg\"\n",
    "        self.image = \"images/2021_08_19_12_44_11-11-71-VBCF_5x4_028-RGB2-FishEyeCorrected.png\"\n",
    "        self.debug = \"plot\"\n",
    "        self.writeimg= False\n",
    "        self.result = \"vis_tutorial_results.json\"\n",
    "        self.outdir = \".\" # Store the output to the current directory\n",
    "        \n",
    "# Get options\n",
    "args = options()\n",
    "\n",
    "# Set debug to the global parameter \n",
    "pcv.params.debug = args.debug"
   ]
  },
  {
   "cell_type": "code",
   "execution_count": null,
   "metadata": {},
   "outputs": [],
   "source": [
    "# Read image\n",
    "\n",
    "# Inputs:\n",
    "#   filename - Image file to be read in \n",
    "#   mode - How to read in the image; either 'native' (default), 'rgb', 'gray', or 'csv'\n",
    "img, path, filename = pcv.readimage(filename=args.image)"
   ]
  },
  {
   "cell_type": "code",
   "execution_count": null,
   "metadata": {
    "scrolled": true
   },
   "outputs": [],
   "source": [
    "mask, masked_img = pcv.threshold.custom_range(img=img, lower_thresh=[0,0,136], upper_thresh=[255,132,255], channel='LAB')\n"
   ]
  },
  {
   "cell_type": "code",
   "execution_count": null,
   "metadata": {},
   "outputs": [],
   "source": [
    "# Convert mask to binary\n",
    "\n",
    "masked_img.shape\n",
    "\n",
    "bin_img = np.clip(masked_img.copy()[:,:,0],0,1)\n",
    "matplotlib.pyplot.imshow(bin_img)\n"
   ]
  },
  {
   "cell_type": "code",
   "execution_count": null,
   "metadata": {},
   "outputs": [],
   "source": [
    "a_fill = pcv.fill(bin_img=bin_img, size=200)"
   ]
  },
  {
   "cell_type": "code",
   "execution_count": null,
   "metadata": {},
   "outputs": [],
   "source": [
    "# Inputs:\n",
    "#   img  = input image\n",
    "#   mask = a binary mask used to detect objects\n",
    "obj, obj_hierarchy = pcv.find_objects(img=img, mask=a_fill)"
   ]
  },
  {
   "cell_type": "code",
   "execution_count": null,
   "metadata": {},
   "outputs": [],
   "source": [
    "# Inputs:\n",
    "#   img     = input image\n",
    "#   coord   = top left coordinate to begin the ROI grid\n",
    "#   radius  = radius for each ROI\n",
    "#   spacing = spacing between each ROI\n",
    "#   nrows   = number of rows in the ROI grid\n",
    "#   ncols   = number of columns in the ROI grid\n",
    "rois, roi_hierarchy = pcv.roi.multi(img=img, coord=(730,520), radius=200, \n",
    "                                    spacing=(670, 670), nrows=4, ncols=5)"
   ]
  },
  {
   "cell_type": "code",
   "execution_count": null,
   "metadata": {},
   "outputs": [],
   "source": [
    "# Inputs:\n",
    "#   start = beginning value for range\n",
    "#   stop  = ending value for range (exclusive)\n",
    "plant_ids = range(0, len(rois))\n"
   ]
  },
  {
   "cell_type": "code",
   "execution_count": null,
   "metadata": {
    "scrolled": true
   },
   "outputs": [],
   "source": [
    "# Create a copy of the original image for annotations\n",
    "\n",
    "# Inputs:\n",
    "#   img = rgb image\n",
    "img_copy = np.copy(img)\n",
    "\n",
    "# Set debug to None (plotting all of the images would be very verbose output)\n",
    "pcv.params.debug = None\n",
    "\n",
    "# Create a for loop to interate through every ROI (plant) in the image\n",
    "for i in range(0, len(rois)):\n",
    "    # The ith ROI, ROI hierarchy, and plant ID\n",
    "    roi = rois[i]\n",
    "    hierarchy = roi_hierarchy[i]\n",
    "    plant_id = plant_ids[i]\n",
    "    # Subset objects that overlap the ROI\n",
    "    # Inputs:\n",
    "    #   img            = input image\n",
    "    #   roi_contour    = a single ROI contour\n",
    "    #   roi_hierarchy  = a single ROI hierarchy\n",
    "    #   object_contour = all objects detected in a binary mask\n",
    "    #   obj_hierarchy  = all object hierarchies\n",
    "    #   roi_type       = \"partial\" (default) keeps contours that overlap\n",
    "    #                    or are contained in the ROI. \"cutto\" cuts off\n",
    "    #                    contours that fall outside the ROI. \"largest\"\n",
    "    #                    only keeps the largest object within the ROI\n",
    "    plant_contours, plant_hierarchy, mask, area = pcv.roi_objects(img=img, \n",
    "                                                                  roi_contour=roi, \n",
    "                                                                  roi_hierarchy=hierarchy, \n",
    "                                                                  object_contour=obj, \n",
    "                                                                  obj_hierarchy=obj_hierarchy, \n",
    "                                                                  roi_type=\"partial\")\n",
    "\n",
    "    # If the plant area is zero then no plant was detected for the ROI\n",
    "    # and no measurements can be done\n",
    "    if area > 0:\n",
    "        # Combine contours together for each plant\n",
    "        # Inputs:\n",
    "        #   img       = input image\n",
    "        #   contours  = contours that will be consolidated into a single object\n",
    "        #   hierarchy = the relationship between contours\n",
    "        plant_obj, plant_mask = pcv.object_composition(img=img, \n",
    "                                                       contours=plant_contours, \n",
    "                                                       hierarchy=plant_hierarchy)        \n",
    "        # Analyze the shape of each plant\n",
    "        # Inputs:\n",
    "        #   img   = input image\n",
    "        #   obj   = composed object contours\n",
    "        #   mask  = binary mask that contours were derived from\n",
    "        #   label = a label for the group of measurements (default = \"default\")\n",
    "        img_copy = pcv.analyze_object(img=img_copy, obj=plant_obj, \n",
    "                                      mask=plant_mask, label=\"plant_\" + str(plant_id))\n",
    "\n",
    "pcv.plot_image(img_copy)"
   ]
  },
  {
   "cell_type": "code",
   "execution_count": null,
   "metadata": {},
   "outputs": [],
   "source": [
    "pcv.print_results(filename='results.txt')"
   ]
  },
  {
   "cell_type": "code",
   "execution_count": null,
   "metadata": {},
   "outputs": [],
   "source": [
    "pcv.outputs.save_results(filename='results.csv', outformat = 'csv')"
   ]
  },
  {
   "cell_type": "code",
   "execution_count": null,
   "metadata": {},
   "outputs": [],
   "source": []
  }
 ],
 "metadata": {
  "kernelspec": {
   "display_name": "Python 3",
   "language": "python",
   "name": "python3"
  },
  "language_info": {
   "codemirror_mode": {
    "name": "ipython",
    "version": 3
   },
   "file_extension": ".py",
   "mimetype": "text/x-python",
   "name": "python",
   "nbconvert_exporter": "python",
   "pygments_lexer": "ipython3",
   "version": "3.8.5"
  }
 },
 "nbformat": 4,
 "nbformat_minor": 4
}
